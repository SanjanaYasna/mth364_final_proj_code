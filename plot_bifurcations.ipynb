{
 "cells": [
  {
   "cell_type": "code",
   "execution_count": 1,
   "metadata": {},
   "outputs": [],
   "source": [
    "import pandas as pd\n",
    "import numpy as np"
   ]
  },
  {
   "cell_type": "markdown",
   "metadata": {},
   "source": [
    "NF1, for reversible bifurcation (inefficient_I.py)"
   ]
  },
  {
   "cell_type": "code",
   "execution_count": 2,
   "metadata": {},
   "outputs": [],
   "source": [
    "rev = pd.read_csv('/work/pi_mrobson_smith_edu/mth364/NF1_I_reversible.csv')"
   ]
  },
  {
   "cell_type": "code",
   "execution_count": 3,
   "metadata": {},
   "outputs": [
    {
     "data": {
      "text/html": [
       "<div>\n",
       "<style scoped>\n",
       "    .dataframe tbody tr th:only-of-type {\n",
       "        vertical-align: middle;\n",
       "    }\n",
       "\n",
       "    .dataframe tbody tr th {\n",
       "        vertical-align: top;\n",
       "    }\n",
       "\n",
       "    .dataframe thead th {\n",
       "        text-align: right;\n",
       "    }\n",
       "</style>\n",
       "<table border=\"1\" class=\"dataframe\">\n",
       "  <thead>\n",
       "    <tr style=\"text-align: right;\">\n",
       "      <th></th>\n",
       "      <th>I</th>\n",
       "      <th>A</th>\n",
       "      <th>B</th>\n",
       "      <th>trace</th>\n",
       "      <th>determinant</th>\n",
       "      <th>string_of_classification</th>\n",
       "      <th>stable</th>\n",
       "    </tr>\n",
       "  </thead>\n",
       "  <tbody>\n",
       "    <tr>\n",
       "      <th>0</th>\n",
       "      <td>0.00</td>\n",
       "      <td>0.0000</td>\n",
       "      <td>0.0000</td>\n",
       "      <td>1.150353</td>\n",
       "      <td>0.327983</td>\n",
       "      <td>unstable node source</td>\n",
       "      <td>False</td>\n",
       "    </tr>\n",
       "    <tr>\n",
       "      <th>1</th>\n",
       "      <td>0.00</td>\n",
       "      <td>0.0000</td>\n",
       "      <td>0.9855</td>\n",
       "      <td>-4.208669</td>\n",
       "      <td>4.053161</td>\n",
       "      <td>stable node sink</td>\n",
       "      <td>True</td>\n",
       "    </tr>\n",
       "    <tr>\n",
       "      <th>2</th>\n",
       "      <td>0.01</td>\n",
       "      <td>0.0004</td>\n",
       "      <td>0.9855</td>\n",
       "      <td>-4.185079</td>\n",
       "      <td>4.018226</td>\n",
       "      <td>stable node sink</td>\n",
       "      <td>True</td>\n",
       "    </tr>\n",
       "    <tr>\n",
       "      <th>3</th>\n",
       "      <td>0.02</td>\n",
       "      <td>0.0008</td>\n",
       "      <td>0.9855</td>\n",
       "      <td>-4.161757</td>\n",
       "      <td>3.983679</td>\n",
       "      <td>stable node sink</td>\n",
       "      <td>True</td>\n",
       "    </tr>\n",
       "    <tr>\n",
       "      <th>4</th>\n",
       "      <td>0.03</td>\n",
       "      <td>0.0012</td>\n",
       "      <td>0.9855</td>\n",
       "      <td>-4.138697</td>\n",
       "      <td>3.949515</td>\n",
       "      <td>stable node sink</td>\n",
       "      <td>True</td>\n",
       "    </tr>\n",
       "    <tr>\n",
       "      <th>...</th>\n",
       "      <td>...</td>\n",
       "      <td>...</td>\n",
       "      <td>...</td>\n",
       "      <td>...</td>\n",
       "      <td>...</td>\n",
       "      <td>...</td>\n",
       "      <td>...</td>\n",
       "    </tr>\n",
       "    <tr>\n",
       "      <th>125</th>\n",
       "      <td>0.98</td>\n",
       "      <td>0.4109</td>\n",
       "      <td>0.9873</td>\n",
       "      <td>-1.599311</td>\n",
       "      <td>-0.207649</td>\n",
       "      <td>unstable saddle node</td>\n",
       "      <td>False</td>\n",
       "    </tr>\n",
       "    <tr>\n",
       "      <th>126</th>\n",
       "      <td>0.98</td>\n",
       "      <td>0.6181</td>\n",
       "      <td>0.9881</td>\n",
       "      <td>-2.009650</td>\n",
       "      <td>0.319700</td>\n",
       "      <td>stable node sink</td>\n",
       "      <td>True</td>\n",
       "    </tr>\n",
       "    <tr>\n",
       "      <th>127</th>\n",
       "      <td>0.99</td>\n",
       "      <td>0.0712</td>\n",
       "      <td>0.9858</td>\n",
       "      <td>-2.207705</td>\n",
       "      <td>1.036858</td>\n",
       "      <td>stable node sink</td>\n",
       "      <td>True</td>\n",
       "    </tr>\n",
       "    <tr>\n",
       "      <th>128</th>\n",
       "      <td>0.99</td>\n",
       "      <td>0.4043</td>\n",
       "      <td>0.9873</td>\n",
       "      <td>-1.592287</td>\n",
       "      <td>-0.213413</td>\n",
       "      <td>unstable saddle node</td>\n",
       "      <td>False</td>\n",
       "    </tr>\n",
       "    <tr>\n",
       "      <th>129</th>\n",
       "      <td>0.99</td>\n",
       "      <td>0.6215</td>\n",
       "      <td>0.9881</td>\n",
       "      <td>-2.020271</td>\n",
       "      <td>0.336277</td>\n",
       "      <td>stable node sink</td>\n",
       "      <td>True</td>\n",
       "    </tr>\n",
       "  </tbody>\n",
       "</table>\n",
       "<p>130 rows × 7 columns</p>\n",
       "</div>"
      ],
      "text/plain": [
       "        I       A       B     trace  determinant string_of_classification  \\\n",
       "0    0.00  0.0000  0.0000  1.150353     0.327983     unstable node source   \n",
       "1    0.00  0.0000  0.9855 -4.208669     4.053161         stable node sink   \n",
       "2    0.01  0.0004  0.9855 -4.185079     4.018226         stable node sink   \n",
       "3    0.02  0.0008  0.9855 -4.161757     3.983679         stable node sink   \n",
       "4    0.03  0.0012  0.9855 -4.138697     3.949515         stable node sink   \n",
       "..    ...     ...     ...       ...          ...                      ...   \n",
       "125  0.98  0.4109  0.9873 -1.599311    -0.207649     unstable saddle node   \n",
       "126  0.98  0.6181  0.9881 -2.009650     0.319700         stable node sink   \n",
       "127  0.99  0.0712  0.9858 -2.207705     1.036858         stable node sink   \n",
       "128  0.99  0.4043  0.9873 -1.592287    -0.213413     unstable saddle node   \n",
       "129  0.99  0.6215  0.9881 -2.020271     0.336277         stable node sink   \n",
       "\n",
       "     stable  \n",
       "0     False  \n",
       "1      True  \n",
       "2      True  \n",
       "3      True  \n",
       "4      True  \n",
       "..      ...  \n",
       "125   False  \n",
       "126    True  \n",
       "127    True  \n",
       "128   False  \n",
       "129    True  \n",
       "\n",
       "[130 rows x 7 columns]"
      ]
     },
     "execution_count": 3,
     "metadata": {},
     "output_type": "execute_result"
    }
   ],
   "source": [
    "rev"
   ]
  },
  {
   "cell_type": "code",
   "execution_count": 4,
   "metadata": {},
   "outputs": [
    {
     "name": "stdout",
     "output_type": "stream",
     "text": [
      "Bifurcation point found at I = 0.8799999952316284\n"
     ]
    }
   ],
   "source": [
    "rev_stable = rev[rev['stable'] == True]\n",
    "rev_unstable = rev[rev['stable'] == False]\n",
    "#make list of B values and thier corresponding I values\n",
    "#bifurcation wehre there are two solutsion for B for the same I value, but the solutions differby more than 0.02\n",
    "#find the first bifurcation point\n",
    "I_values = rev_stable['I'].to_numpy()\n",
    "b_values = rev_stable['B'].to_numpy()\n",
    "for I in I_values: \n",
    "    solutions = rev_stable[rev_stable['I'] == I]    \n",
    "    b_values = solutions['B'].to_numpy()\n",
    "    #if there are two solutions for B, add to list\n",
    "    if len(b_values) > 1 and (abs(max(b_values) - min(b_values)) > 0.002):\n",
    "        print(f'Bifurcation point found at I = {I}')\n",
    "        break\n"
   ]
  },
  {
   "cell_type": "code",
   "execution_count": 5,
   "metadata": {},
   "outputs": [
    {
     "data": {
      "text/plain": [
       "Text(0.5, 1.0, 'Reversible NF1 Bifurcation')"
      ]
     },
     "execution_count": 5,
     "metadata": {},
     "output_type": "execute_result"
    },
    {
     "data": {
      "image/png": "[encoded data removed]",
      "text/plain": [
       "<Figure size 1000x600 with 1 Axes>"
      ]
     },
     "metadata": {},
     "output_type": "display_data"
    }
   ],
   "source": [
    "#make a plot opf I vs B for all cases where stable =True \n",
    "import matplotlib.pyplot as plt\n",
    "import seaborn as sns\n",
    "sns.set(style=\"whitegrid\")\n",
    "plt.figure(figsize=(10, 6))\n",
    "#only plot where stable = True\n",
    "\n",
    "plt.plot(rev_stable['I'], rev_stable['B'], 'o', label='stable', color='blue')\n",
    "\n",
    "\n",
    "# plt.plot(rev['I'], rev['B'], 'o', label='stable', color='blue')\n",
    "# plt.plot(rev['I'], rev['B'], 'o', label='unstable', color='red')\n",
    "plt.ylim(0.985, 0.988)\n",
    "plt.xlabel('I')\n",
    "plt.ylabel('B*')\n",
    "plt.title('Reversible NF1 Bifurcation')"
   ]
  },
  {
   "cell_type": "code",
   "execution_count": 6,
   "metadata": {},
   "outputs": [
    {
     "data": {
      "text/plain": [
       "<matplotlib.legend.Legend at 0x766152570050>"
      ]
     },
     "execution_count": 6,
     "metadata": {},
     "output_type": "execute_result"
    },
    {
     "data": {
      "image/png": "[encoded data removed]",
      "text/plain": [
       "<Figure size 640x480 with 1 Axes>"
      ]
     },
     "metadata": {},
     "output_type": "display_data"
    }
   ],
   "source": [
    "#now plot unstable solutions\n",
    "plt.plot(rev_unstable['I'], rev_unstable['B'], 'o', label='unstable', color='yellow')\n",
    "plt.legend()\n",
    "#not meaningful..."
   ]
  },
  {
   "cell_type": "code",
   "execution_count": 7,
   "metadata": {},
   "outputs": [],
   "source": [
    "#to get full bifurcation diagram...\n",
    "#get line fits, but adjust the fit overlay accordingly..."
   ]
  },
  {
   "cell_type": "code",
   "execution_count": 8,
   "metadata": {},
   "outputs": [],
   "source": [
    "irrev= pd.read_csv('/work/pi_mrobson_smith_edu/mth364/NF1_I_irreversible.csv')"
   ]
  },
  {
   "cell_type": "code",
   "execution_count": 9,
   "metadata": {},
   "outputs": [
    {
     "name": "stdout",
     "output_type": "stream",
     "text": [
      "Bifurcation point found at I = 0.0\n"
     ]
    }
   ],
   "source": [
    "irrev_stable = irrev[irrev['stable'] == True]\n",
    "irrev_unstable = irrev[irrev['stable'] == False]\n",
    "#make list of B values and thier corresponding I values\n",
    "#bifurcation wehre there are two solutsion for B for the same I value, but the solutions differby more than 0.02\n",
    "#find the first bifurcation point\n",
    "I_values = irrev_stable['I'].to_numpy()\n",
    "b_values = irrev_stable['B'].to_numpy()\n",
    "for I in I_values: \n",
    "    solutions = irrev_stable[irrev_stable['I'] == I]    \n",
    "    b_values = solutions['B'].to_numpy()\n",
    "    #if there are two solutions for B, add to list\n",
    "    if len(b_values) > 1 and (abs(max(b_values) - min(b_values)) > 0.002):\n",
    "        print(f'Bifurcation point found at I = {I}')\n",
    "        break"
   ]
  },
  {
   "cell_type": "code",
   "execution_count": 12,
   "metadata": {},
   "outputs": [
    {
     "data": {
      "text/html": [
       "<div>\n",
       "<style scoped>\n",
       "    .dataframe tbody tr th:only-of-type {\n",
       "        vertical-align: middle;\n",
       "    }\n",
       "\n",
       "    .dataframe tbody tr th {\n",
       "        vertical-align: top;\n",
       "    }\n",
       "\n",
       "    .dataframe thead th {\n",
       "        text-align: right;\n",
       "    }\n",
       "</style>\n",
       "<table border=\"1\" class=\"dataframe\">\n",
       "  <thead>\n",
       "    <tr style=\"text-align: right;\">\n",
       "      <th></th>\n",
       "      <th>I</th>\n",
       "      <th>A</th>\n",
       "      <th>B</th>\n",
       "      <th>trace</th>\n",
       "      <th>determinant</th>\n",
       "      <th>string_of_classification</th>\n",
       "      <th>stable</th>\n",
       "    </tr>\n",
       "  </thead>\n",
       "  <tbody>\n",
       "    <tr>\n",
       "      <th>1</th>\n",
       "      <td>0.00</td>\n",
       "      <td>0.7507</td>\n",
       "      <td>0.9885</td>\n",
       "      <td>-2.342129</td>\n",
       "      <td>0.827049</td>\n",
       "      <td>stable node sink</td>\n",
       "      <td>True</td>\n",
       "    </tr>\n",
       "    <tr>\n",
       "      <th>2</th>\n",
       "      <td>0.00</td>\n",
       "      <td>0.0000</td>\n",
       "      <td>0.9855</td>\n",
       "      <td>-3.246676</td>\n",
       "      <td>2.617953</td>\n",
       "      <td>stable node sink</td>\n",
       "      <td>True</td>\n",
       "    </tr>\n",
       "    <tr>\n",
       "      <th>4</th>\n",
       "      <td>0.01</td>\n",
       "      <td>0.7517</td>\n",
       "      <td>0.9885</td>\n",
       "      <td>-2.347924</td>\n",
       "      <td>0.837349</td>\n",
       "      <td>stable node sink</td>\n",
       "      <td>True</td>\n",
       "    </tr>\n",
       "    <tr>\n",
       "      <th>5</th>\n",
       "      <td>0.01</td>\n",
       "      <td>0.0006</td>\n",
       "      <td>0.9855</td>\n",
       "      <td>-3.221666</td>\n",
       "      <td>2.580725</td>\n",
       "      <td>stable node sink</td>\n",
       "      <td>True</td>\n",
       "    </tr>\n",
       "    <tr>\n",
       "      <th>7</th>\n",
       "      <td>0.02</td>\n",
       "      <td>0.7527</td>\n",
       "      <td>0.9885</td>\n",
       "      <td>-2.353744</td>\n",
       "      <td>0.847700</td>\n",
       "      <td>stable node sink</td>\n",
       "      <td>True</td>\n",
       "    </tr>\n",
       "    <tr>\n",
       "      <th>...</th>\n",
       "      <td>...</td>\n",
       "      <td>...</td>\n",
       "      <td>...</td>\n",
       "      <td>...</td>\n",
       "      <td>...</td>\n",
       "      <td>...</td>\n",
       "      <td>...</td>\n",
       "    </tr>\n",
       "    <tr>\n",
       "      <th>231</th>\n",
       "      <td>0.95</td>\n",
       "      <td>0.8118</td>\n",
       "      <td>0.9887</td>\n",
       "      <td>-2.800279</td>\n",
       "      <td>1.666280</td>\n",
       "      <td>stable node sink</td>\n",
       "      <td>True</td>\n",
       "    </tr>\n",
       "    <tr>\n",
       "      <th>232</th>\n",
       "      <td>0.96</td>\n",
       "      <td>0.8122</td>\n",
       "      <td>0.9887</td>\n",
       "      <td>-2.804269</td>\n",
       "      <td>1.673809</td>\n",
       "      <td>stable node sink</td>\n",
       "      <td>True</td>\n",
       "    </tr>\n",
       "    <tr>\n",
       "      <th>233</th>\n",
       "      <td>0.97</td>\n",
       "      <td>0.8126</td>\n",
       "      <td>0.9887</td>\n",
       "      <td>-2.808265</td>\n",
       "      <td>1.681353</td>\n",
       "      <td>stable node sink</td>\n",
       "      <td>True</td>\n",
       "    </tr>\n",
       "    <tr>\n",
       "      <th>234</th>\n",
       "      <td>0.98</td>\n",
       "      <td>0.8130</td>\n",
       "      <td>0.9887</td>\n",
       "      <td>-2.812269</td>\n",
       "      <td>1.688913</td>\n",
       "      <td>stable node sink</td>\n",
       "      <td>True</td>\n",
       "    </tr>\n",
       "    <tr>\n",
       "      <th>235</th>\n",
       "      <td>0.99</td>\n",
       "      <td>0.8134</td>\n",
       "      <td>0.9887</td>\n",
       "      <td>-2.816280</td>\n",
       "      <td>1.696487</td>\n",
       "      <td>stable node sink</td>\n",
       "      <td>True</td>\n",
       "    </tr>\n",
       "  </tbody>\n",
       "</table>\n",
       "<p>168 rows × 7 columns</p>\n",
       "</div>"
      ],
      "text/plain": [
       "        I       A       B     trace  determinant string_of_classification  \\\n",
       "1    0.00  0.7507  0.9885 -2.342129     0.827049         stable node sink   \n",
       "2    0.00  0.0000  0.9855 -3.246676     2.617953         stable node sink   \n",
       "4    0.01  0.7517  0.9885 -2.347924     0.837349         stable node sink   \n",
       "5    0.01  0.0006  0.9855 -3.221666     2.580725         stable node sink   \n",
       "7    0.02  0.7527  0.9885 -2.353744     0.847700         stable node sink   \n",
       "..    ...     ...     ...       ...          ...                      ...   \n",
       "231  0.95  0.8118  0.9887 -2.800279     1.666280         stable node sink   \n",
       "232  0.96  0.8122  0.9887 -2.804269     1.673809         stable node sink   \n",
       "233  0.97  0.8126  0.9887 -2.808265     1.681353         stable node sink   \n",
       "234  0.98  0.8130  0.9887 -2.812269     1.688913         stable node sink   \n",
       "235  0.99  0.8134  0.9887 -2.816280     1.696487         stable node sink   \n",
       "\n",
       "     stable  \n",
       "1      True  \n",
       "2      True  \n",
       "4      True  \n",
       "5      True  \n",
       "7      True  \n",
       "..      ...  \n",
       "231    True  \n",
       "232    True  \n",
       "233    True  \n",
       "234    True  \n",
       "235    True  \n",
       "\n",
       "[168 rows x 7 columns]"
      ]
     },
     "execution_count": 12,
     "metadata": {},
     "output_type": "execute_result"
    }
   ],
   "source": [
    "irrev_stable"
   ]
  },
  {
   "cell_type": "code",
   "execution_count": 20,
   "metadata": {},
   "outputs": [
    {
     "data": {
      "text/plain": [
       "Text(0.5, 1.0, 'Irreversible NF1 Bifurcation')"
      ]
     },
     "execution_count": 20,
     "metadata": {},
     "output_type": "execute_result"
    },
    {
     "data": {
      "image/png": "[encoded data removed]",
      "text/plain": [
       "<Figure size 1000x600 with 1 Axes>"
      ]
     },
     "metadata": {},
     "output_type": "display_data"
    }
   ],
   "source": [
    "#make a plot opf I vs B for all cases where stable =True \n",
    "import matplotlib.pyplot as plt\n",
    "import seaborn as sns\n",
    "sns.set(style=\"whitegrid\")\n",
    "plt.figure(figsize=(10, 6))\n",
    "#only plot where stable = True\n",
    "\n",
    "plt.plot(irrev_stable['I'], irrev_stable['B'], 'o', label='stable', color='blue')\n",
    "plt.plot(irrev_unstable['I'], irrev_unstable['B'], 'o', label='unstable', color='yellow')\n",
    "plt.legend()\n",
    "\n",
    "# plt.plot(rev['I'], rev['B'], 'o', label='stable', color='blue')\n",
    "# plt.plot(rev['I'], rev['B'], 'o', label='unstable', color='red')\n",
    "plt.ylim(0.985, 0.99)\n",
    "plt.xlabel('I')\n",
    "plt.ylabel('B*')\n",
    "plt.title('Irreversible NF1 Bifurcation')"
   ]
  },
  {
   "cell_type": "markdown",
   "metadata": {},
   "source": [
    "K_mA"
   ]
  },
  {
   "cell_type": "code",
   "execution_count": 24,
   "metadata": {},
   "outputs": [],
   "source": [
    "kma = pd.read_csv('/work/pi_mrobson_smith_edu/mth364/NF1_kma.csv')"
   ]
  },
  {
   "cell_type": "code",
   "execution_count": 25,
   "metadata": {},
   "outputs": [
    {
     "name": "stdout",
     "output_type": "stream",
     "text": [
      "Bifurcation point found at I = 0.0\n"
     ]
    }
   ],
   "source": [
    "kma_stable = kma[kma['stable'] == True]\n",
    "kma_unstable = kma[kma['stable'] == False]\n",
    "#make list of B values and thier corresponding I values\n",
    "#bifurcation wehre there are two solutsion for B for the same I value, but the solutions differby more than 0.02\n",
    "#find the first bifurcation point\n",
    "kma_values = kma_stable['k_ma'].to_numpy()\n",
    "b_values =  kma_stable['B'].to_numpy()\n",
    "for kma in kma_values: \n",
    "    solutions = kma_stable[kma_stable['k_ma'] == kma]    \n",
    "    b_values = solutions['B'].to_numpy()\n",
    "    #if there are two solutions for B, add to list\n",
    "    if len(b_values) > 1 and (abs(max(b_values) - min(b_values)) > 0.002):\n",
    "        print(f'Bifurcation point found at I = {I}')\n",
    "        break"
   ]
  },
  {
   "cell_type": "code",
   "execution_count": 29,
   "metadata": {},
   "outputs": [
    {
     "data": {
      "text/plain": [
       "Text(0.5, 1.0, 'NF1 Changing K_mA, looks irreversible? (reversible k2)')"
      ]
     },
     "execution_count": 29,
     "metadata": {},
     "output_type": "execute_result"
    },
    {
     "data": {
      "image/png": "[encoded data removed]",
      "text/plain": [
       "<Figure size 1000x600 with 1 Axes>"
      ]
     },
     "metadata": {},
     "output_type": "display_data"
    }
   ],
   "source": [
    "#make a plot opf I vs B for all cases where stable =True \n",
    "import matplotlib.pyplot as plt\n",
    "import seaborn as sns\n",
    "sns.set(style=\"whitegrid\")\n",
    "plt.figure(figsize=(10, 6))\n",
    "#only plot where stable = True\n",
    "\n",
    "plt.plot(kma_stable['k_ma'], kma_stable['B'], 'o', label='stable', color='blue')\n",
    "plt.plot(kma_unstable['k_ma'], kma_unstable['B'], 'o', label='unstable', color='yellow')\n",
    "plt.legend()\n",
    "\n",
    "# plt.plot(rev['I'], rev['B'], 'o', label='stable', color='blue')\n",
    "# plt.plot(rev['I'], rev['B'], 'o', label='unstable', color='red')\n",
    "plt.ylim(0.985, 0.99)\n",
    "plt.xlabel('k_mA')\n",
    "plt.ylabel('B*')\n",
    "plt.title('NF1 Changing K_mA, looks irreversible? (reversible k2)')"
   ]
  },
  {
   "cell_type": "markdown",
   "metadata": {},
   "source": [
    "Try for trajectories with respect to time, close to unstable state \n",
    "possibility: transient behavior before reaching steady state"
   ]
  }
 ],
 "metadata": {
  "kernelspec": {
   "display_name": "Python 3",
   "language": "python",
   "name": "python3"
  },
  "language_info": {
   "codemirror_mode": {
    "name": "ipython",
    "version": 3
   },
   "file_extension": ".py",
   "mimetype": "text/x-python",
   "name": "python",
   "nbconvert_exporter": "python",
   "pygments_lexer": "ipython3",
   "version": "3.12.9"
  },
  "orig_nbformat": 4
 },
 "nbformat": 4,
 "nbformat_minor": 2
}
